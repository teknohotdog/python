{
 "cells": [
  {
   "cell_type": "markdown",
   "metadata": {},
   "source": [
    "마크다운 셀 M, 코드 셀 Y"
   ]
  },
  {
   "cell_type": "code",
   "execution_count": 1,
   "metadata": {},
   "outputs": [
    {
     "data": {
      "text/plain": [
       "(1, 2, 3, 'a', 'bb', 'a')"
      ]
     },
     "execution_count": 1,
     "metadata": {},
     "output_type": "execute_result"
    }
   ],
   "source": [
    "# 튜풀 (요소, 요소...), 특징 : 수정 불가능\n",
    "# \n",
    "t = (1,2,3,'a', 'bb', 'a')\n",
    "t"
   ]
  },
  {
   "cell_type": "code",
   "execution_count": 2,
   "metadata": {},
   "outputs": [
    {
     "data": {
      "text/plain": [
       "2"
      ]
     },
     "execution_count": 2,
     "metadata": {},
     "output_type": "execute_result"
    }
   ],
   "source": [
    "t.count('a') # a 가 몇개 있는가"
   ]
  },
  {
   "cell_type": "code",
   "execution_count": 3,
   "metadata": {},
   "outputs": [
    {
     "data": {
      "text/plain": [
       "3"
      ]
     },
     "execution_count": 3,
     "metadata": {},
     "output_type": "execute_result"
    }
   ],
   "source": [
    "t.index('a') # a 가 어디에 있는가"
   ]
  },
  {
   "cell_type": "code",
   "execution_count": 4,
   "metadata": {},
   "outputs": [],
   "source": [
    "# 함수 만들기\n",
    "def add_3(a,b  = 10, c = 1): # 기본값 인자 뒷쪽에 놓을 수 있다.\n",
    "    '''\n",
    "    문서화\n",
    "    작성자 : 나\n",
    "    '''\n",
    "    return a+b+c"
   ]
  },
  {
   "cell_type": "code",
   "execution_count": 5,
   "metadata": {},
   "outputs": [
    {
     "data": {
      "text/plain": [
       "(111, 31)"
      ]
     },
     "execution_count": 5,
     "metadata": {},
     "output_type": "execute_result"
    }
   ],
   "source": [
    "add_3(a=100), add_3(a=10,b=20)"
   ]
  },
  {
   "cell_type": "code",
   "execution_count": 6,
   "metadata": {},
   "outputs": [],
   "source": [
    "# return이 없는 함수\n",
    "import math\n",
    "def check_nan(x):\n",
    "    if math.isnan(x): # nan not a number\n",
    "        print(x, '는 nan입니다.')\n",
    "    else:\n",
    "        print(x, '는 숫자입니다.')"
   ]
  },
  {
   "cell_type": "code",
   "execution_count": 7,
   "metadata": {},
   "outputs": [
    {
     "name": "stdout",
     "output_type": "stream",
     "text": [
      "100 는 숫자입니다.\n"
     ]
    }
   ],
   "source": [
    "check_nan(100)"
   ]
  },
  {
   "cell_type": "code",
   "execution_count": 8,
   "metadata": {},
   "outputs": [
    {
     "name": "stdout",
     "output_type": "stream",
     "text": [
      "100 는 숫자입니다.\n",
      "None\n"
     ]
    }
   ],
   "source": [
    "out = check_nan(100)\n",
    "print(out) # 리턴이 없는 함수에게 리턴을 강제로 받으면 none 이 리턴됩니다."
   ]
  },
  {
   "cell_type": "markdown",
   "metadata": {},
   "source": [
    "클래스를 정의해두고, 사용할때는 인스턴스를 생성해서 클래스의 함수들을 사용합니다."
   ]
  },
  {
   "cell_type": "code",
   "execution_count": 9,
   "metadata": {},
   "outputs": [],
   "source": [
    "import random\n",
    "\n",
    "class Lotto:\n",
    "    '''\n",
    "    45개 전후의 숫자 중 6개를 맞추면 1등, 1~45의 숫자\n",
    "    '''\n",
    "    def __init__(self):\n",
    "        print(\"Lotto 생성자\")\n",
    "        self.target = [] # self를 붙이면 클래스 변수가 됩니다.\n",
    "        for i in range(5):\n",
    "            v = random.randint(1,45)\n",
    "            while (v in self.target):\n",
    "             v = random.randint(1, 45) # 다시뽑기\n",
    "            \n",
    "            self.target.append(v)\n",
    "        print(self.target)\n",
    "        \n",
    "    def select(self, nums):\n",
    "        print('정답', self.target, '예측', nums)\n",
    "        k = 0\n",
    "        for i in range(5):\n",
    "            if nums[i] in self.target: #내가 뽑은 번호가 정답이면\n",
    "                k += 1\n",
    "        if k == 5:\n",
    "            print('로또 1등 당첨입니다.')\n",
    "        if k > 1:\n",
    "            print('축하합니다.', k, '개 맞췄습니다.')\n",
    "        else:\n",
    "            print('꽝입니다. 하나도 못맞췄습니다.')"
   ]
  },
  {
   "cell_type": "code",
   "execution_count": 10,
   "metadata": {},
   "outputs": [
    {
     "name": "stdout",
     "output_type": "stream",
     "text": [
      "Lotto 생성자\n",
      "[22, 30, 15, 31, 41]\n"
     ]
    }
   ],
   "source": [
    "# 객체(인스턴스) 생성 방법 : 클래스이름()\n",
    "lotto1 = Lotto()"
   ]
  },
  {
   "cell_type": "code",
   "execution_count": 11,
   "metadata": {},
   "outputs": [
    {
     "name": "stdout",
     "output_type": "stream",
     "text": [
      "정답 [22, 30, 15, 31, 41] 예측 [1, 2, 3, 4, 5]\n",
      "꽝입니다. 하나도 못맞췄습니다.\n"
     ]
    }
   ],
   "source": [
    "# 게임참여 내가 숫자 5개를 선택하면 정답 중 맞춘 숫자 갯수가 축하합니다. X개 맞췄습니다. 하나도 못맞췄습니다.\n",
    "lotto1.select([1,2,3,4,5])"
   ]
  },
  {
   "cell_type": "code",
   "execution_count": 15,
   "metadata": {},
   "outputs": [
    {
     "data": {
      "text/plain": [
       "(5, [1, 3, 5, 6, 8])"
      ]
     },
     "execution_count": 15,
     "metadata": {},
     "output_type": "execute_result"
    }
   ],
   "source": [
    "my_nums = [[1,3,5,6,8], [10,20,30,40,33], [1,2,3,4,5], [6,7,8,9,11], [3,7,12,23,44]]\n",
    "len(my_nums),my_nums[0] # len 만큼 반복헤서 lotto1.select 함수를 호출하면 되겠습니다."
   ]
  },
  {
   "cell_type": "code",
   "execution_count": 16,
   "metadata": {},
   "outputs": [
    {
     "name": "stdout",
     "output_type": "stream",
     "text": [
      "정답 [22, 30, 15, 31, 41] 예측 [1, 3, 5, 6, 8]\n",
      "꽝입니다. 하나도 못맞췄습니다.\n",
      "정답 [22, 30, 15, 31, 41] 예측 [10, 20, 30, 40, 33]\n",
      "꽝입니다. 하나도 못맞췄습니다.\n",
      "정답 [22, 30, 15, 31, 41] 예측 [1, 2, 3, 4, 5]\n",
      "꽝입니다. 하나도 못맞췄습니다.\n",
      "정답 [22, 30, 15, 31, 41] 예측 [6, 7, 8, 9, 11]\n",
      "꽝입니다. 하나도 못맞췄습니다.\n",
      "정답 [22, 30, 15, 31, 41] 예측 [3, 7, 12, 23, 44]\n",
      "꽝입니다. 하나도 못맞췄습니다.\n"
     ]
    }
   ],
   "source": [
    "for i in range(len(my_nums)):\n",
    "    lotto1.select(my_nums[i])"
   ]
  },
  {
   "cell_type": "code",
   "execution_count": null,
   "metadata": {},
   "outputs": [],
   "source": []
  }
 ],
 "metadata": {
  "kernelspec": {
   "display_name": "Python 3",
   "language": "python",
   "name": "python3"
  },
  "language_info": {
   "codemirror_mode": {
    "name": "ipython",
    "version": 3
   },
   "file_extension": ".py",
   "mimetype": "text/x-python",
   "name": "python",
   "nbconvert_exporter": "python",
   "pygments_lexer": "ipython3",
   "version": "3.7.3"
  }
 },
 "nbformat": 4,
 "nbformat_minor": 2
}
