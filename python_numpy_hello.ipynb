{
 "cells": [
  {
   "cell_type": "markdown",
   "metadata": {},
   "source": [
    "단축키\n",
    "- shift, ctrl, alt + Enter 실행\n",
    "- Esc 커맨드 모트, Enter 편집 모드\n",
    "- X 셀 지우기\n",
    "- Esc 누르고 M 마크다운, Y 코드"
   ]
  },
  {
   "cell_type": "markdown",
   "metadata": {},
   "source": [
    "### 넘파이 Numpy (Numeric python)\n",
    "수치 데이터를 처리하는 라이브러리, 고속/편리, 모든 머신러닝 라이브러리와 호환\n",
    "- 이미지(흑백 > 하얀색 255, 검은색 0)\n",
    "- 컬러 이미지 (RGB, 빨간색 255.0.0)\n",
    "- 혈액형 A,B,AB,O > 1000,0100,0010,0001 : 원핫 인코딩\n",
    "- 자연어 단어만 뽑아서 > 숫자로 변환 Word2Vector 언어학자가 개발함."
   ]
  },
  {
   "cell_type": "code",
   "execution_count": 2,
   "metadata": {},
   "outputs": [
    {
     "data": {
      "text/plain": [
       "array([0, 1, 2, 3, 4, 5, 6, 7, 8])"
      ]
     },
     "execution_count": 2,
     "metadata": {},
     "output_type": "execute_result"
    }
   ],
   "source": [
    "import numpy as np # 별칭(별명)\n",
    "np.arange(9) # 배열 생성"
   ]
  },
  {
   "cell_type": "code",
   "execution_count": 3,
   "metadata": {},
   "outputs": [
    {
     "name": "stdout",
     "output_type": "stream",
     "text": [
      "range는 연산에 사용할 수 없습니다.\n"
     ]
    }
   ],
   "source": [
    "# range는 연산에 쓸 수 없다\n",
    "try:\n",
    "    range(9) + range(9)\n",
    "except:\n",
    "    print('range는 연산에 사용할 수 없습니다.')"
   ]
  },
  {
   "cell_type": "code",
   "execution_count": 4,
   "metadata": {},
   "outputs": [
    {
     "data": {
      "text/plain": [
       "[1, 2, 3, 4, 5, 1, 2, 3, 4, 5]"
      ]
     },
     "execution_count": 4,
     "metadata": {},
     "output_type": "execute_result"
    }
   ],
   "source": [
    "# 리스트로 연산용으로 사용할 수 없습니다.\n",
    "[1,2,3,4,5] + [1,2,3,4,5]"
   ]
  },
  {
   "cell_type": "code",
   "execution_count": 12,
   "metadata": {},
   "outputs": [
    {
     "data": {
      "text/plain": [
       "((5,), 5, dtype('int32'), numpy.ndarray)"
      ]
     },
     "execution_count": 12,
     "metadata": {},
     "output_type": "execute_result"
    }
   ],
   "source": [
    "x = np.array([1,2,3,4,5])\n",
    "x.shape, len(x), x.dtype, type(x) # nd(Number of Dimension)array"
   ]
  },
  {
   "cell_type": "code",
   "execution_count": 13,
   "metadata": {},
   "outputs": [
    {
     "data": {
      "text/plain": [
       "((5,), 5, dtype('float64'), numpy.ndarray)"
      ]
     },
     "execution_count": 13,
     "metadata": {},
     "output_type": "execute_result"
    }
   ],
   "source": [
    "x = np.array([1,2,3,4,5.5])\n",
    "x.shape, len(x), x.dtype, type(x)"
   ]
  },
  {
   "cell_type": "markdown",
   "metadata": {},
   "source": [
    "정밀함이 중요한 분야 : double : 의료, 우주, 금융\n",
    "double Tesla\n",
    "정밀함이 중요하지 않은 분야 : 영상 (Red 255.0.0) > (244.1.1), 자연어 등\n",
    "float 처리 성능이 높은 GPU"
   ]
  },
  {
   "cell_type": "code",
   "execution_count": 23,
   "metadata": {},
   "outputs": [
    {
     "data": {
      "text/plain": [
       "array(0.6665, dtype=float16)"
      ]
     },
     "execution_count": 23,
     "metadata": {},
     "output_type": "execute_result"
    }
   ],
   "source": [
    "x0 = np.array(2/3, dtype=np.float16) # 반정밀도 2byte 512Mb 1일\n",
    "x1 = np.array(2/3, dtype=np.float32) # 단정밀도 4byte 1Gb 2일\n",
    "x2 = np.array(2/3, dtype=np.float64) # 배정밀도 8byte 2Gb 4일\n",
    "x0"
   ]
  },
  {
   "cell_type": "code",
   "execution_count": 25,
   "metadata": {},
   "outputs": [
    {
     "data": {
      "text/plain": [
       "array(0.6666667, dtype=float32)"
      ]
     },
     "execution_count": 25,
     "metadata": {},
     "output_type": "execute_result"
    }
   ],
   "source": [
    "x1"
   ]
  },
  {
   "cell_type": "code",
   "execution_count": 26,
   "metadata": {},
   "outputs": [
    {
     "data": {
      "text/plain": [
       "array(0.66666667)"
      ]
     },
     "execution_count": 26,
     "metadata": {},
     "output_type": "execute_result"
    }
   ],
   "source": [
    "x2"
   ]
  },
  {
   "cell_type": "markdown",
   "metadata": {},
   "source": [
    "배열 생성\n",
    "- List"
   ]
  }
 ],
 "metadata": {
  "kernelspec": {
   "display_name": "Python 3",
   "language": "python",
   "name": "python3"
  },
  "language_info": {
   "codemirror_mode": {
    "name": "ipython",
    "version": 3
   },
   "file_extension": ".py",
   "mimetype": "text/x-python",
   "name": "python",
   "nbconvert_exporter": "python",
   "pygments_lexer": "ipython3",
   "version": "3.7.3"
  }
 },
 "nbformat": 4,
 "nbformat_minor": 2
}
